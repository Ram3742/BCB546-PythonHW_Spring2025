{
 "cells": [
  {
   "cell_type": "code",
   "execution_count": 1,
   "id": "e9a4bd08-6b21-4205-8dbe-b2ed60cdfc6c",
   "metadata": {},
   "outputs": [],
   "source": [
    "# imports\n",
    "from Bio import SeqIO\n",
    "from Bio.Data import CodonTable\n",
    "import pandas as pd"
   ]
  },
  {
   "cell_type": "code",
   "execution_count": 8,
   "id": "42e42191-5feb-45b2-a9fb-2e29177fe4c4",
   "metadata": {},
   "outputs": [],
   "source": [
    "1 ##\n",
    "####### GET SEQUENCES FUNCTION ########\n",
    "## Dr. X: this gets sequences \n",
    "## Please properly document this function in the Jupyter notebook \n",
    "## Your descriptions of all functions should contain information about what the function does,\n",
    "## as well as information about the return types and arguments.\n",
    "def get_sequences_from_file(fasta_fn):\n",
    "    sequence_data_dict = {}\n",
    "    for record in SeqIO.parse(fasta_fn, \"fasta\"):\n",
    "        description = record.description.split()\n",
    "        species_name = description[1] + \" \" + description[2]\n",
    "        sequence_data_dict[species_name] = record.seq\n",
    "    return(sequence_data_dict)"
   ]
  },
  {
   "cell_type": "code",
   "execution_count": 23,
   "id": "0841c430-9ca8-4559-b0e9-207f8ddb7106",
   "metadata": {},
   "outputs": [],
   "source": [
    "def get_sequences_from_file(fasta_fn): # it will extract sequences from input file\n",
    "    sequence_data_dict = {}# initialize an empty dictionar to store sequences with the headers\n",
    "    for record in SeqIO.parse(fasta_fn, \"fasta\"):# takes every entry in the fasta file\n",
    "        description = record.description.split() # the contenets of each header are split\n",
    "        species_name = description[1] + \" \" + description[2] # the first and second index of the header denotes the genus and species \n",
    "        sequence_data_dict[species_name] = record.seq # the sepecies name is stored to a dictionary\n",
    "    return(sequence_data_dict) # returns the dictionary as ouput"
   ]
  },
  {
   "cell_type": "code",
   "execution_count": null,
   "id": "ece191b2-129e-440a-b580-7d0244b2c971",
   "metadata": {},
   "outputs": [],
   "source": [
    "2 ##\n",
    "####### YOUR STRING-TRANSLATE FUNCTION ########\n",
    "## Write a function that translates sequences\n",
    "## All sequences start at codon position 1\n",
    "## Complete a function that translates using a loop over the string of nucleotides\n",
    "## Here is  some pseudo-code and suggestions\n",
    "## feel free to change the function and variable names\n",
    "# def translate_function(string_nucleotides): \n",
    "#     mito_table = CodonTable.unambiguous_dna_by_name[\"Vertebrate Mitochondrial\"] # this should work using BioPython (be sure to check what this returns)\n",
    "#     for-loop through every 3rd position in string_nucleotides to get the codon using range subsets\n",
    "#         # IMPORTANT: if the sequence has a stop codon at the end, you should leave it off\n",
    "#         # this is how you can retrieve the amino acid: mito_table.forward_table[codon]\n",
    "#         add the aa to aa_seq_string\n",
    "#     return(aa_seq_string)"
   ]
  },
  {
   "cell_type": "code",
   "execution_count": 2,
   "id": "1c9fb018-ff08-428c-89cd-50fec0c1c09e",
   "metadata": {},
   "outputs": [],
   "source": [
    "def translate_function(string_nucleotides): \n",
    "    mito_table = CodonTable.unambiguous_dna_by_name[\"Vertebrate Mitochondrial\"] # etract codon table\n",
    "    aa_seq_string = ''  # initialize an empty string to store amino acids\n",
    "    # for-loop through every 3rd position in string_nucleotides to get the codon\n",
    "    for position in range(0, len(string_nucleotides) - 2, 3):\n",
    "        codon = string_nucleotides[position:position+3]\n",
    "        if codon in mito_table.stop_codons:\n",
    "            break  # Stop translation at the first stop codon\n",
    "        aa = mito_table.forward_table.get(codon, 'X')  # retrieve an AA, 'X' if unknown\n",
    "        aa_seq_string += aa\n",
    "    return aa_seq_string\n"
   ]
  },
  {
   "cell_type": "code",
   "execution_count": null,
   "id": "c8e174ef-0b41-46a7-b0b1-521788d153ae",
   "metadata": {},
   "outputs": [],
   "source": [
    "#3 Alternative Function"
   ]
  },
  {
   "cell_type": "code",
   "execution_count": 9,
   "id": "a3b3a445-fe81-413a-bd1c-0e2d428e46e5",
   "metadata": {},
   "outputs": [],
   "source": [
    "# we shall use the in-built biopython translate function from codon to aa\n",
    "def faster_translate(string_nucleotides):\n",
    "    data=[]\n",
    "    for species, seq in sequence_data_dict.items():\n",
    "        my_seq = Seq(str(seq))\n",
    "        translated = my_seq.translate() # convert Seq object to string translate\n",
    "        data.append({\"species\":species, \"protein_sequence\":translated})\n",
    "    return aa_seq_string"
   ]
  },
  {
   "cell_type": "code",
   "execution_count": null,
   "id": "9756c854-a024-4499-8e7e-733fc4648a84",
   "metadata": {},
   "outputs": [],
   "source": [
    "#4 AA analysis function"
   ]
  },
  {
   "cell_type": "code",
   "execution_count": 10,
   "id": "f6a0b289-36a0-4e2e-ac66-8b9b84c07903",
   "metadata": {},
   "outputs": [],
   "source": [
    "from Bio.SeqUtils.ProtParam import ProteinAnalysis\n",
    "def compute_molecular_weight(aa_seq):\n",
    "    aa_seq=str(aa_seq) # ProtParam function may require aa_seq to be a string\n",
    "    aa_seq=aa_seq.replace('*', '') # to remove stop codon if any\n",
    "    weight=ProteinAnalysis(aa_seq).molecular_weight()\n",
    "    return weight"
   ]
  },
  {
   "cell_type": "code",
   "execution_count": null,
   "id": "6a15cba4-a2da-4b5e-8af7-a65b824ec8fe",
   "metadata": {},
   "outputs": [],
   "source": [
    "#5 code for GC content analysis function"
   ]
  },
  {
   "cell_type": "code",
   "execution_count": 13,
   "id": "61404dea-c503-4a2b-9f21-3a58007741be",
   "metadata": {},
   "outputs": [],
   "source": [
    "from Bio.SeqUtils import gc_fraction"
   ]
  },
  {
   "cell_type": "code",
   "execution_count": 19,
   "id": "52bd4d8f-457e-447d-b159-c490b470381a",
   "metadata": {},
   "outputs": [],
   "source": [
    "def gc_content(seq):\n",
    "    return gc_fraction(str(seq))*100"
   ]
  },
  {
   "cell_type": "code",
   "execution_count": 24,
   "id": "259c592e-7221-478b-8ba5-cdfa2b20f0ad",
   "metadata": {},
   "outputs": [],
   "source": [
    "#Main function\n",
    "cytb_seqs=get_sequences_from_file(\"penguins_cytb.fasta\")\n",
    "penguins_df = pd.read_csv(\"penguins_mass.csv\") # includes only data for body mass\n",
    "species_list = list(penguins_df.species)"
   ]
  },
  {
   "cell_type": "code",
   "execution_count": null,
   "id": "e02bdee0-855e-478e-8177-e981783dd0a0",
   "metadata": {},
   "outputs": [],
   "source": [
    "#6 adding two columns of molcular weight and GC content"
   ]
  },
  {
   "cell_type": "code",
   "execution_count": 25,
   "id": "15f31710-3a0f-4df6-af5f-3a741b5b44a6",
   "metadata": {},
   "outputs": [],
   "source": [
    "import numpy as np\n",
    "penguins_df[\"molecular_weight\"] = np.nan\n",
    "penguins_df[\"gc_content\"] = np.nan"
   ]
  },
  {
   "cell_type": "code",
   "execution_count": 26,
   "id": "e43b9546-b021-46ed-8167-7fdfe74092db",
   "metadata": {},
   "outputs": [],
   "source": [
    "sequence_dict=dict(cytb_seqs)"
   ]
  },
  {
   "cell_type": "code",
   "execution_count": null,
   "id": "a907f423-d669-45c2-8d21-44d067815114",
   "metadata": {},
   "outputs": [],
   "source": [
    "#7"
   ]
  },
  {
   "cell_type": "code",
   "execution_count": 39,
   "id": "3223e4b2-9a4c-4bde-aa30-3b4fa1642b35",
   "metadata": {},
   "outputs": [],
   "source": [
    "for species_name, nucleotide_seq in cytb_seqs.items():\n",
    "    aa_seq = translate_function(nucleotide_seq)\n",
    "    mol_weight = compute_molecular_weight(aa_seq)\n",
    "    gc = gc_content(nucleotide_seq)\n",
    "    penguins_df.loc[penguins_df[\"species\"] == species_name, \"molecular_weight\"] = mol_weight\n",
    "    penguins_df.loc[penguins_df[\"species\"] == species_name, \"gc_content\"] = gc\n",
    "    "
   ]
  },
  {
   "cell_type": "code",
   "execution_count": 40,
   "id": "7d300308-5182-41a5-872c-d0561e2b4e70",
   "metadata": {},
   "outputs": [
    {
     "data": {
      "text/html": [
       "<div>\n",
       "<style scoped>\n",
       "    .dataframe tbody tr th:only-of-type {\n",
       "        vertical-align: middle;\n",
       "    }\n",
       "\n",
       "    .dataframe tbody tr th {\n",
       "        vertical-align: top;\n",
       "    }\n",
       "\n",
       "    .dataframe thead th {\n",
       "        text-align: right;\n",
       "    }\n",
       "</style>\n",
       "<table border=\"1\" class=\"dataframe\">\n",
       "  <thead>\n",
       "    <tr style=\"text-align: right;\">\n",
       "      <th></th>\n",
       "      <th>species</th>\n",
       "      <th>mass</th>\n",
       "      <th>molecular_weight</th>\n",
       "      <th>gc_content</th>\n",
       "    </tr>\n",
       "  </thead>\n",
       "  <tbody>\n",
       "    <tr>\n",
       "      <th>0</th>\n",
       "      <td>Aptenodytes forsteri</td>\n",
       "      <td>28.00</td>\n",
       "      <td>42459.6021</td>\n",
       "      <td>48.381452</td>\n",
       "    </tr>\n",
       "    <tr>\n",
       "      <th>1</th>\n",
       "      <td>Aptenodytes patagonicus</td>\n",
       "      <td>13.40</td>\n",
       "      <td>42563.7067</td>\n",
       "      <td>49.693788</td>\n",
       "    </tr>\n",
       "    <tr>\n",
       "      <th>2</th>\n",
       "      <td>Eudyptes chrysocome</td>\n",
       "      <td>2.80</td>\n",
       "      <td>42475.5753</td>\n",
       "      <td>51.181102</td>\n",
       "    </tr>\n",
       "    <tr>\n",
       "      <th>3</th>\n",
       "      <td>Eudyptes chrysolophus</td>\n",
       "      <td>4.50</td>\n",
       "      <td>42445.5493</td>\n",
       "      <td>50.918635</td>\n",
       "    </tr>\n",
       "    <tr>\n",
       "      <th>4</th>\n",
       "      <td>Eudyptes sclateri</td>\n",
       "      <td>4.25</td>\n",
       "      <td>42475.5753</td>\n",
       "      <td>50.831146</td>\n",
       "    </tr>\n",
       "  </tbody>\n",
       "</table>\n",
       "</div>"
      ],
      "text/plain": [
       "                   species   mass  molecular_weight  gc_content\n",
       "0     Aptenodytes forsteri  28.00        42459.6021   48.381452\n",
       "1  Aptenodytes patagonicus  13.40        42563.7067   49.693788\n",
       "2      Eudyptes chrysocome   2.80        42475.5753   51.181102\n",
       "3    Eudyptes chrysolophus   4.50        42445.5493   50.918635\n",
       "4        Eudyptes sclateri   4.25        42475.5753   50.831146"
      ]
     },
     "execution_count": 40,
     "metadata": {},
     "output_type": "execute_result"
    }
   ],
   "source": [
    "penguins_df.head()"
   ]
  },
  {
   "cell_type": "code",
   "execution_count": null,
   "id": "520d14de-0df7-441f-991d-e12ede6bea30",
   "metadata": {},
   "outputs": [],
   "source": [
    "#8 bar chart "
   ]
  },
  {
   "cell_type": "code",
   "execution_count": 34,
   "id": "97349c00-1078-4702-b28e-a2b63b89c371",
   "metadata": {},
   "outputs": [
    {
     "data": {
      "image/png": "[encoded data removed]",
      "text/plain": [
       "<Figure size 576x360 with 1 Axes>"
      ]
     },
     "metadata": {
      "needs_background": "light"
     },
     "output_type": "display_data"
    }
   ],
   "source": [
    "# Install matplotlib if not already installed\n",
    "!pip install matplotlib --quiet\n",
    "\n",
    "# Import matplotlib\n",
    "import matplotlib.pyplot as plt\n",
    "\n",
    "# Optional: Set figure size\n",
    "plt.figure(figsize=(8, 5))\n",
    "\n",
    "# Group by species and calculate mean mass\n",
    "mass_by_species = penguins_df.groupby(\"species\")[\"mass\"].mean()\n",
    "\n",
    "# Plot bar chart\n",
    "mass_by_species.plot(kind='bar', color='skyblue')\n",
    "plt.title(\"Average Body Mass per Penguin Species\")\n",
    "plt.xlabel(\"Species\")\n",
    "plt.ylabel(\"Mass (g)\")\n",
    "plt.xticks(rotation=45)\n",
    "plt.tight_layout()\n",
    "plt.show()"
   ]
  },
  {
   "cell_type": "code",
   "execution_count": null,
   "id": "3ba4ff57-172c-4c7d-8fd2-68b3fa148546",
   "metadata": {},
   "outputs": [],
   "source": [
    "#8 smallest species and geographical range"
   ]
  },
  {
   "cell_type": "code",
   "execution_count": 35,
   "id": "389230ce-4f0e-4e8c-a809-956c9cbdcc53",
   "metadata": {},
   "outputs": [
    {
     "name": "stdout",
     "output_type": "stream",
     "text": [
      "Smallest penguin species: Eudyptula minor (1.60 g)\n"
     ]
    }
   ],
   "source": [
    "min_mass_species = mass_by_species.idxmin()\n",
    "min_mass_value = mass_by_species.min()\n",
    "print(f\"Smallest penguin species: {min_mass_species} ({min_mass_value:.2f} g)\")"
   ]
  },
  {
   "cell_type": "code",
   "execution_count": 36,
   "id": "986c2678-48ac-4d53-bb94-414a18c8979b",
   "metadata": {},
   "outputs": [
    {
     "name": "stdout",
     "output_type": "stream",
     "text": [
      "Geographical range of smallest species: (Eudyptula minor): 49.26%\n"
     ]
    }
   ],
   "source": [
    "gc_value = penguins_df[penguins_df[\"species\"] == min_mass_species][\"gc_content\"].mean()\n",
    "print(f\"Geographical range of smallest species: ({min_mass_species}): {gc_value:.2f}%\")"
   ]
  },
  {
   "cell_type": "code",
   "execution_count": null,
   "id": "b8a416be-eda3-49f8-b6a4-244fcd6cd268",
   "metadata": {},
   "outputs": [],
   "source": [
    "#9 visualization of molecular weight vs GC content "
   ]
  },
  {
   "cell_type": "code",
   "execution_count": 37,
   "id": "d3109a15-cc61-4f59-8e41-af9cbbd6c132",
   "metadata": {},
   "outputs": [
    {
     "data": {
      "image/png": "[encoded data removed]",
      "text/plain": [
       "<Figure size 576x360 with 1 Axes>"
      ]
     },
     "metadata": {
      "needs_background": "light"
     },
     "output_type": "display_data"
    }
   ],
   "source": [
    "import matplotlib.pyplot as plt\n",
    "\n",
    "# Scatter plot\n",
    "plt.figure(figsize=(8, 5))\n",
    "plt.scatter(penguins_df['gc_content'], penguins_df['molecular_weight'], color='red', edgecolor='k')\n",
    "plt.xlabel('GC Content (%)')\n",
    "plt.ylabel('Molecular Weight')\n",
    "plt.title('Molecular Weight vs GC Content')\n",
    "plt.grid(True, linestyle='--', alpha=0.5)\n",
    "plt.tight_layout()\n",
    "plt.show()"
   ]
  },
  {
   "cell_type": "code",
   "execution_count": null,
   "id": "4fda753d-738a-4027-95ad-26dd415b4592",
   "metadata": {},
   "outputs": [],
   "source": [
    "#10 new data frame"
   ]
  },
  {
   "cell_type": "code",
   "execution_count": 41,
   "id": "720928e2-6399-4e38-9580-40630073a86e",
   "metadata": {},
   "outputs": [],
   "source": [
    "penguins_df.to_csv('penguins_mass_cytb.csv', index=False)"
   ]
  },
  {
   "cell_type": "code",
   "execution_count": null,
   "id": "5d752d88-b6ce-46a3-8368-24026ef1b140",
   "metadata": {},
   "outputs": [],
   "source": []
  }
 ],
 "metadata": {
  "kernelspec": {
   "display_name": "Python 3 (ipykernel)",
   "language": "python",
   "name": "python3"
  },
  "language_info": {
   "codemirror_mode": {
    "name": "ipython",
    "version": 3
   },
   "file_extension": ".py",
   "mimetype": "text/x-python",
   "name": "python",
   "nbconvert_exporter": "python",
   "pygments_lexer": "ipython3",
   "version": "3.10.2"
  }
 },
 "nbformat": 4,
 "nbformat_minor": 5
}
